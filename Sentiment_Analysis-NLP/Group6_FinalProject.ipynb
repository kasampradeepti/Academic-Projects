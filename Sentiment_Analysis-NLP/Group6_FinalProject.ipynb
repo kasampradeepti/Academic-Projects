{
  "cells": [
    {
      "cell_type": "markdown",
      "metadata": {
        "id": "DD_EQlJFRAXb"
      },
      "source": [
        "# PROG8245- Machine Learning Programming\n",
        "\n",
        "# Project: Applying NLP to Major Tasks\n",
        "\n",
        "### Team : Group 6\n",
        "| Student No  | First Name                  | Last Name     |\n",
        "|-------------|-----------------------------|---------------|\n",
        "| 8965985     | Pradeepti                   | Kasam         |\n",
        "| 9016987     | Keerthi                     | Gonuguntla    |\n",
        "| 8964515     | Neha Dasharath              | Yadav         |"
      ]
    },
    {
      "cell_type": "markdown",
      "metadata": {},
      "source": [
        "### Introduction\n",
        "\n",
        "In this project, we delve into sentiment analysis within the context of customer feedback on products(amazon fine food reviews), aiming to gauge public opinion and improve user experience. One particular aspect of natural language processing is sentiment analysis which allows a business to identify not only the content of consumers’ feedback, but also the tone behind it that can inform decisions when developing new products and marketing campaigns. We implement a Naive Bayes model, recognized for its effectiveness and efficiency, to assess its performance using three distinct feature representation techniques: These include namely; Bag of Words (BoW), Term Frequency-Inverse Document Frequency (TF-IDF), and Word2Vec. This research aims to establish which of the three embedding techniques achieves the best classification accuracy of sentiments taking into consideration factors such as the problem of class imbalance in the data set used. The outcomes of this project will not only expand the knowledge of the current techniques for text classification and analysis but also contribute to creating guidelines for businesses to improve their products and services according to consumers’ opinions."
      ]
    },
    {
      "cell_type": "markdown",
      "metadata": {
        "id": "-Wvxl_I4RAXd"
      },
      "source": [
        "### 1. Data Collection :\n",
        "\n",
        "#### Collect a dataset of product reviews\n",
        "\n",
        "Here we are using the fine food reviews data to apply NLP.\n",
        "\n",
        "#### **Kaggle Dataset** [Fine Food reviews from Amazon](https://www.kaggle.com/datasets/snap/amazon-fine-food-reviews)"
      ]
    },
    {
      "cell_type": "markdown",
      "metadata": {},
      "source": [
        "### Step 1 : Load the dataset\n",
        "\n",
        "- Imports: Various libraries are imported to facilitate data manipulation, natural language processing (NLP)as well as machine learning:\n",
        "    - pandas: For data handling and manipulation.\n",
        "    - nltk: The Natural Language Toolkit, used in different text processing tasks.\n",
        "    - sklearn: A library for machine learning which allow model training, evaluation, and data preprocessing to be done.\n",
        "    - gensim: For overall word centered representations and topic modeling.\n",
        "    - punkt: Tokenizers for breaking down text into either the sentence level or the word level.\n",
        "    - stopwords: Prepositions such as ‘and’ or ‘the’ which are mostly stripped off the text in keyword generation.\n",
        "    - wordnet: A database of lemmas of the English language useful for lemmatization\n",
        "- Code Flow\n",
        "    - Importing necessary libraries and downloading NLTK Resources before any data manipulation or analysis begins."
      ]
    },
    {
      "cell_type": "markdown",
      "metadata": {
        "id": "zVVk5DvCRAXe"
      },
      "source": [
        "### Step 1 : Load the dataset"
      ]
    },
    {
      "cell_type": "code",
      "execution_count": null,
      "metadata": {
        "colab": {
          "base_uri": "https://localhost:8080/"
        },
        "id": "1B5-P_iVRAXe",
        "outputId": "f67a728e-6198-4219-b376-5d6bfbefec6b"
      },
      "outputs": [
        {
          "name": "stderr",
          "output_type": "stream",
          "text": [
            "[nltk_data] Downloading package punkt to /root/nltk_data...\n",
            "[nltk_data]   Unzipping tokenizers/punkt.zip.\n",
            "[nltk_data] Downloading package stopwords to /root/nltk_data...\n",
            "[nltk_data]   Unzipping corpora/stopwords.zip.\n",
            "[nltk_data] Downloading package wordnet to /root/nltk_data...\n",
            "[nltk_data] Downloading package punkt_tab to /root/nltk_data...\n",
            "[nltk_data]   Unzipping tokenizers/punkt_tab.zip.\n"
          ]
        },
        {
          "data": {
            "text/plain": [
              "True"
            ]
          },
          "execution_count": 2,
          "metadata": {},
          "output_type": "execute_result"
        }
      ],
      "source": [
        "#Necessary imports\n",
        "import pandas as pd\n",
        "import nltk\n",
        "from nltk.sentiment import SentimentIntensityAnalyzer\n",
        "import nltk\n",
        "from nltk.tokenize import word_tokenize\n",
        "from nltk.corpus import stopwords\n",
        "from nltk.stem import WordNetLemmatizer\n",
        "import string\n",
        "from sklearn.feature_extraction.text import CountVectorizer, TfidfVectorizer\n",
        "from gensim.models import Word2Vec\n",
        "from sklearn.model_selection import train_test_split\n",
        "from sklearn.naive_bayes import MultinomialNB\n",
        "from sklearn.metrics import accuracy_score, classification_report\n",
        "nltk.download('punkt')\n",
        "nltk.download('stopwords')\n",
        "nltk.download('wordnet')\n",
        "nltk.download('punkt_tab')"
      ]
    },
    {
      "cell_type": "markdown",
      "metadata": {},
      "source": [
        "Mounting Google Drive: \n",
        "- Here we are enabling us to get the files in the Google Drive in a Google Colab platform.\n",
        "- The files that are uploaded to the Google Drive can be directly used to read from or write to data.\n",
        "\n",
        "Code Flow\n",
        "- Google drive is mounted, allowing us to read files stored in the user’s drive"
      ]
    },
    {
      "cell_type": "code",
      "execution_count": null,
      "metadata": {
        "colab": {
          "base_uri": "https://localhost:8080/"
        },
        "id": "HzosqJ4dblGe",
        "outputId": "986e7b26-1078-469f-fd51-658773b80361"
      },
      "outputs": [
        {
          "name": "stdout",
          "output_type": "stream",
          "text": [
            "Mounted at /content/drive\n"
          ]
        }
      ],
      "source": [
        "from google.colab import drive\n",
        "drive.mount('/content/drive')"
      ]
    },
    {
      "cell_type": "markdown",
      "metadata": {},
      "source": [
        "Loading the Dataset\n",
        "- Reading CSV File: The pd.read_csv() brings a CSV file that feature product reviews into an efficient data structure, the Pandas DataFrame and stored in the variable ‘reviews_df’\n",
        "- Previewing Data: The preliminarily view of the DataFrame is presented with a method reviews_df.head() where the interpreter shows 5 head samples.\n",
        "\n",
        "Code Flow\n",
        "- The CSV file is then, read into a DataFrame.\n",
        "- The first 5 rows of the DataFrame are displayed to provide information concerning the data.\n",
        "\n",
        "The output from reviews_df.head() provides a snapshot of the dataset's structure and contents, showing columns like:\n",
        "- Id: A user ID would be assigned to every review.\n",
        "- ProductId: Code that refers to the particular product under review.\n",
        "- UserId: User id of the writer of the review.\n",
        "- ProfileName: Name of the user.\n",
        "- HelpfulnessNumerator and HelpfulnessDenominator: Indices for relevance of the reviews.\n",
        "- Score: Rating given by the reviewer.\n",
        "- Time: Timestamp of the review.\n",
        "- Summary and Text: ; the Abstract of the review and the complete text of the abstract.\n",
        "- This is important to establish even before going further in the analysis time series or in any other processing step\n"
      ]
    },
    {
      "cell_type": "code",
      "execution_count": null,
      "metadata": {
        "colab": {
          "base_uri": "https://localhost:8080/",
          "height": 293
        },
        "id": "lmXznHPDRAXf",
        "outputId": "9540679d-0a9f-4f3e-de2b-c7a3d3ed3d0b"
      },
      "outputs": [
        {
          "data": {
            "application/vnd.google.colaboratory.intrinsic+json": {
              "type": "dataframe",
              "variable_name": "reviews_df"
            },
            "text/html": [
              "\n",
              "  <div id=\"df-4b53280c-d3a8-4cb9-9d5a-b23b0484f088\" class=\"colab-df-container\">\n",
              "    <div>\n",
              "<style scoped>\n",
              "    .dataframe tbody tr th:only-of-type {\n",
              "        vertical-align: middle;\n",
              "    }\n",
              "\n",
              "    .dataframe tbody tr th {\n",
              "        vertical-align: top;\n",
              "    }\n",
              "\n",
              "    .dataframe thead th {\n",
              "        text-align: right;\n",
              "    }\n",
              "</style>\n",
              "<table border=\"1\" class=\"dataframe\">\n",
              "  <thead>\n",
              "    <tr style=\"text-align: right;\">\n",
              "      <th></th>\n",
              "      <th>Id</th>\n",
              "      <th>ProductId</th>\n",
              "      <th>UserId</th>\n",
              "      <th>ProfileName</th>\n",
              "      <th>HelpfulnessNumerator</th>\n",
              "      <th>HelpfulnessDenominator</th>\n",
              "      <th>Score</th>\n",
              "      <th>Time</th>\n",
              "      <th>Summary</th>\n",
              "      <th>Text</th>\n",
              "    </tr>\n",
              "  </thead>\n",
              "  <tbody>\n",
              "    <tr>\n",
              "      <th>0</th>\n",
              "      <td>1</td>\n",
              "      <td>B001E4KFG0</td>\n",
              "      <td>A3SGXH7AUHU8GW</td>\n",
              "      <td>delmartian</td>\n",
              "      <td>1</td>\n",
              "      <td>1</td>\n",
              "      <td>5</td>\n",
              "      <td>1303862400</td>\n",
              "      <td>Good Quality Dog Food</td>\n",
              "      <td>I have bought several of the Vitality canned d...</td>\n",
              "    </tr>\n",
              "    <tr>\n",
              "      <th>1</th>\n",
              "      <td>2</td>\n",
              "      <td>B00813GRG4</td>\n",
              "      <td>A1D87F6ZCVE5NK</td>\n",
              "      <td>dll pa</td>\n",
              "      <td>0</td>\n",
              "      <td>0</td>\n",
              "      <td>1</td>\n",
              "      <td>1346976000</td>\n",
              "      <td>Not as Advertised</td>\n",
              "      <td>Product arrived labeled as Jumbo Salted Peanut...</td>\n",
              "    </tr>\n",
              "    <tr>\n",
              "      <th>2</th>\n",
              "      <td>3</td>\n",
              "      <td>B000LQOCH0</td>\n",
              "      <td>ABXLMWJIXXAIN</td>\n",
              "      <td>Natalia Corres \"Natalia Corres\"</td>\n",
              "      <td>1</td>\n",
              "      <td>1</td>\n",
              "      <td>4</td>\n",
              "      <td>1219017600</td>\n",
              "      <td>\"Delight\" says it all</td>\n",
              "      <td>This is a confection that has been around a fe...</td>\n",
              "    </tr>\n",
              "    <tr>\n",
              "      <th>3</th>\n",
              "      <td>4</td>\n",
              "      <td>B000UA0QIQ</td>\n",
              "      <td>A395BORC6FGVXV</td>\n",
              "      <td>Karl</td>\n",
              "      <td>3</td>\n",
              "      <td>3</td>\n",
              "      <td>2</td>\n",
              "      <td>1307923200</td>\n",
              "      <td>Cough Medicine</td>\n",
              "      <td>If you are looking for the secret ingredient i...</td>\n",
              "    </tr>\n",
              "    <tr>\n",
              "      <th>4</th>\n",
              "      <td>5</td>\n",
              "      <td>B006K2ZZ7K</td>\n",
              "      <td>A1UQRSCLF8GW1T</td>\n",
              "      <td>Michael D. Bigham \"M. Wassir\"</td>\n",
              "      <td>0</td>\n",
              "      <td>0</td>\n",
              "      <td>5</td>\n",
              "      <td>1350777600</td>\n",
              "      <td>Great taffy</td>\n",
              "      <td>Great taffy at a great price.  There was a wid...</td>\n",
              "    </tr>\n",
              "  </tbody>\n",
              "</table>\n",
              "</div>\n",
              "    <div class=\"colab-df-buttons\">\n",
              "\n",
              "  <div class=\"colab-df-container\">\n",
              "    <button class=\"colab-df-convert\" onclick=\"convertToInteractive('df-4b53280c-d3a8-4cb9-9d5a-b23b0484f088')\"\n",
              "            title=\"Convert this dataframe to an interactive table.\"\n",
              "            style=\"display:none;\">\n",
              "\n",
              "  <svg xmlns=\"http://www.w3.org/2000/svg\" height=\"24px\" viewBox=\"0 -960 960 960\">\n",
              "    <path d=\"M120-120v-720h720v720H120Zm60-500h600v-160H180v160Zm220 220h160v-160H400v160Zm0 220h160v-160H400v160ZM180-400h160v-160H180v160Zm440 0h160v-160H620v160ZM180-180h160v-160H180v160Zm440 0h160v-160H620v160Z\"/>\n",
              "  </svg>\n",
              "    </button>\n",
              "\n",
              "  <style>\n",
              "    .colab-df-container {\n",
              "      display:flex;\n",
              "      gap: 12px;\n",
              "    }\n",
              "\n",
              "    .colab-df-convert {\n",
              "      background-color: #E8F0FE;\n",
              "      border: none;\n",
              "      border-radius: 50%;\n",
              "      cursor: pointer;\n",
              "      display: none;\n",
              "      fill: #1967D2;\n",
              "      height: 32px;\n",
              "      padding: 0 0 0 0;\n",
              "      width: 32px;\n",
              "    }\n",
              "\n",
              "    .colab-df-convert:hover {\n",
              "      background-color: #E2EBFA;\n",
              "      box-shadow: 0px 1px 2px rgba(60, 64, 67, 0.3), 0px 1px 3px 1px rgba(60, 64, 67, 0.15);\n",
              "      fill: #174EA6;\n",
              "    }\n",
              "\n",
              "    .colab-df-buttons div {\n",
              "      margin-bottom: 4px;\n",
              "    }\n",
              "\n",
              "    [theme=dark] .colab-df-convert {\n",
              "      background-color: #3B4455;\n",
              "      fill: #D2E3FC;\n",
              "    }\n",
              "\n",
              "    [theme=dark] .colab-df-convert:hover {\n",
              "      background-color: #434B5C;\n",
              "      box-shadow: 0px 1px 3px 1px rgba(0, 0, 0, 0.15);\n",
              "      filter: drop-shadow(0px 1px 2px rgba(0, 0, 0, 0.3));\n",
              "      fill: #FFFFFF;\n",
              "    }\n",
              "  </style>\n",
              "\n",
              "    <script>\n",
              "      const buttonEl =\n",
              "        document.querySelector('#df-4b53280c-d3a8-4cb9-9d5a-b23b0484f088 button.colab-df-convert');\n",
              "      buttonEl.style.display =\n",
              "        google.colab.kernel.accessAllowed ? 'block' : 'none';\n",
              "\n",
              "      async function convertToInteractive(key) {\n",
              "        const element = document.querySelector('#df-4b53280c-d3a8-4cb9-9d5a-b23b0484f088');\n",
              "        const dataTable =\n",
              "          await google.colab.kernel.invokeFunction('convertToInteractive',\n",
              "                                                    [key], {});\n",
              "        if (!dataTable) return;\n",
              "\n",
              "        const docLinkHtml = 'Like what you see? Visit the ' +\n",
              "          '<a target=\"_blank\" href=https://colab.research.google.com/notebooks/data_table.ipynb>data table notebook</a>'\n",
              "          + ' to learn more about interactive tables.';\n",
              "        element.innerHTML = '';\n",
              "        dataTable['output_type'] = 'display_data';\n",
              "        await google.colab.output.renderOutput(dataTable, element);\n",
              "        const docLink = document.createElement('div');\n",
              "        docLink.innerHTML = docLinkHtml;\n",
              "        element.appendChild(docLink);\n",
              "      }\n",
              "    </script>\n",
              "  </div>\n",
              "\n",
              "\n",
              "<div id=\"df-c8d2ab87-77c2-420f-a096-661cd5523718\">\n",
              "  <button class=\"colab-df-quickchart\" onclick=\"quickchart('df-c8d2ab87-77c2-420f-a096-661cd5523718')\"\n",
              "            title=\"Suggest charts\"\n",
              "            style=\"display:none;\">\n",
              "\n",
              "<svg xmlns=\"http://www.w3.org/2000/svg\" height=\"24px\"viewBox=\"0 0 24 24\"\n",
              "     width=\"24px\">\n",
              "    <g>\n",
              "        <path d=\"M19 3H5c-1.1 0-2 .9-2 2v14c0 1.1.9 2 2 2h14c1.1 0 2-.9 2-2V5c0-1.1-.9-2-2-2zM9 17H7v-7h2v7zm4 0h-2V7h2v10zm4 0h-2v-4h2v4z\"/>\n",
              "    </g>\n",
              "</svg>\n",
              "  </button>\n",
              "\n",
              "<style>\n",
              "  .colab-df-quickchart {\n",
              "      --bg-color: #E8F0FE;\n",
              "      --fill-color: #1967D2;\n",
              "      --hover-bg-color: #E2EBFA;\n",
              "      --hover-fill-color: #174EA6;\n",
              "      --disabled-fill-color: #AAA;\n",
              "      --disabled-bg-color: #DDD;\n",
              "  }\n",
              "\n",
              "  [theme=dark] .colab-df-quickchart {\n",
              "      --bg-color: #3B4455;\n",
              "      --fill-color: #D2E3FC;\n",
              "      --hover-bg-color: #434B5C;\n",
              "      --hover-fill-color: #FFFFFF;\n",
              "      --disabled-bg-color: #3B4455;\n",
              "      --disabled-fill-color: #666;\n",
              "  }\n",
              "\n",
              "  .colab-df-quickchart {\n",
              "    background-color: var(--bg-color);\n",
              "    border: none;\n",
              "    border-radius: 50%;\n",
              "    cursor: pointer;\n",
              "    display: none;\n",
              "    fill: var(--fill-color);\n",
              "    height: 32px;\n",
              "    padding: 0;\n",
              "    width: 32px;\n",
              "  }\n",
              "\n",
              "  .colab-df-quickchart:hover {\n",
              "    background-color: var(--hover-bg-color);\n",
              "    box-shadow: 0 1px 2px rgba(60, 64, 67, 0.3), 0 1px 3px 1px rgba(60, 64, 67, 0.15);\n",
              "    fill: var(--button-hover-fill-color);\n",
              "  }\n",
              "\n",
              "  .colab-df-quickchart-complete:disabled,\n",
              "  .colab-df-quickchart-complete:disabled:hover {\n",
              "    background-color: var(--disabled-bg-color);\n",
              "    fill: var(--disabled-fill-color);\n",
              "    box-shadow: none;\n",
              "  }\n",
              "\n",
              "  .colab-df-spinner {\n",
              "    border: 2px solid var(--fill-color);\n",
              "    border-color: transparent;\n",
              "    border-bottom-color: var(--fill-color);\n",
              "    animation:\n",
              "      spin 1s steps(1) infinite;\n",
              "  }\n",
              "\n",
              "  @keyframes spin {\n",
              "    0% {\n",
              "      border-color: transparent;\n",
              "      border-bottom-color: var(--fill-color);\n",
              "      border-left-color: var(--fill-color);\n",
              "    }\n",
              "    20% {\n",
              "      border-color: transparent;\n",
              "      border-left-color: var(--fill-color);\n",
              "      border-top-color: var(--fill-color);\n",
              "    }\n",
              "    30% {\n",
              "      border-color: transparent;\n",
              "      border-left-color: var(--fill-color);\n",
              "      border-top-color: var(--fill-color);\n",
              "      border-right-color: var(--fill-color);\n",
              "    }\n",
              "    40% {\n",
              "      border-color: transparent;\n",
              "      border-right-color: var(--fill-color);\n",
              "      border-top-color: var(--fill-color);\n",
              "    }\n",
              "    60% {\n",
              "      border-color: transparent;\n",
              "      border-right-color: var(--fill-color);\n",
              "    }\n",
              "    80% {\n",
              "      border-color: transparent;\n",
              "      border-right-color: var(--fill-color);\n",
              "      border-bottom-color: var(--fill-color);\n",
              "    }\n",
              "    90% {\n",
              "      border-color: transparent;\n",
              "      border-bottom-color: var(--fill-color);\n",
              "    }\n",
              "  }\n",
              "</style>\n",
              "\n",
              "  <script>\n",
              "    async function quickchart(key) {\n",
              "      const quickchartButtonEl =\n",
              "        document.querySelector('#' + key + ' button');\n",
              "      quickchartButtonEl.disabled = true;  // To prevent multiple clicks.\n",
              "      quickchartButtonEl.classList.add('colab-df-spinner');\n",
              "      try {\n",
              "        const charts = await google.colab.kernel.invokeFunction(\n",
              "            'suggestCharts', [key], {});\n",
              "      } catch (error) {\n",
              "        console.error('Error during call to suggestCharts:', error);\n",
              "      }\n",
              "      quickchartButtonEl.classList.remove('colab-df-spinner');\n",
              "      quickchartButtonEl.classList.add('colab-df-quickchart-complete');\n",
              "    }\n",
              "    (() => {\n",
              "      let quickchartButtonEl =\n",
              "        document.querySelector('#df-c8d2ab87-77c2-420f-a096-661cd5523718 button');\n",
              "      quickchartButtonEl.style.display =\n",
              "        google.colab.kernel.accessAllowed ? 'block' : 'none';\n",
              "    })();\n",
              "  </script>\n",
              "</div>\n",
              "\n",
              "    </div>\n",
              "  </div>\n"
            ],
            "text/plain": [
              "   Id   ProductId          UserId                      ProfileName  \\\n",
              "0   1  B001E4KFG0  A3SGXH7AUHU8GW                       delmartian   \n",
              "1   2  B00813GRG4  A1D87F6ZCVE5NK                           dll pa   \n",
              "2   3  B000LQOCH0   ABXLMWJIXXAIN  Natalia Corres \"Natalia Corres\"   \n",
              "3   4  B000UA0QIQ  A395BORC6FGVXV                             Karl   \n",
              "4   5  B006K2ZZ7K  A1UQRSCLF8GW1T    Michael D. Bigham \"M. Wassir\"   \n",
              "\n",
              "   HelpfulnessNumerator  HelpfulnessDenominator  Score        Time  \\\n",
              "0                     1                       1      5  1303862400   \n",
              "1                     0                       0      1  1346976000   \n",
              "2                     1                       1      4  1219017600   \n",
              "3                     3                       3      2  1307923200   \n",
              "4                     0                       0      5  1350777600   \n",
              "\n",
              "                 Summary                                               Text  \n",
              "0  Good Quality Dog Food  I have bought several of the Vitality canned d...  \n",
              "1      Not as Advertised  Product arrived labeled as Jumbo Salted Peanut...  \n",
              "2  \"Delight\" says it all  This is a confection that has been around a fe...  \n",
              "3         Cough Medicine  If you are looking for the secret ingredient i...  \n",
              "4            Great taffy  Great taffy at a great price.  There was a wid...  "
            ]
          },
          "execution_count": 7,
          "metadata": {},
          "output_type": "execute_result"
        }
      ],
      "source": [
        "reviews_df = pd.read_csv('Reviews.csv')\n",
        "reviews_df.head()"
      ]
    },
    {
      "cell_type": "markdown",
      "metadata": {},
      "source": [
        "### Step 2: Annotating Sentiment Based on Ratings\n",
        "\n",
        "- We are downloading the VADER lexicon and initializing the SentimentIntensityAnalyzer. VADER is a rule-based sentiment analysis tool specifically attuned to sentiments expressed in social media. VADER is pre-trained and effective for social media text, considering punctuation, capitalization, and emoticons. SentimentIntensityAnalyzer class from the NLTK library will be used to calculate sentiment scores for text data.\n",
        "- The function analyze_sentiment() accepts a text string, computes the sentiment scores, and classifies the sentiment based on the compound score. It uses VADER to calculate polarity scores for the input text. The compound score, a normalized sum of valence scores, determines the overall sentiment. Thresholds of 0.05 and -0.05 are used to classify sentiments.\n",
        "    - Positive Sentiment: A compound score of 0.05 or above indicates a positive sentiment.\n",
        "    - Negative Sentiment: A compound score of -0.05 or below indicates a negative sentiment.\n",
        "    - Neutral Sentiment: Scores that fall between -0.05 and 0.05 are classified as neutral.\n",
        "- Then we are applying sentiment analysis function to each row in the Text column, creating a new column Predicted_Sentiment that contains the sentiment classification.\n",
        "- Later, we are printing the first few rows of the Text, Score, and Predicted_Sentiment columns along with the number of occurrences of each sentiment label (positive, negative, neutral).\n"
      ]
    },
    {
      "cell_type": "code",
      "execution_count": null,
      "metadata": {
        "colab": {
          "base_uri": "https://localhost:8080/"
        },
        "id": "6_LUBk1SRAXg",
        "outputId": "1e7c1d75-36f6-4e71-a8c5-9e89bcd3297e"
      },
      "outputs": [
        {
          "name": "stderr",
          "output_type": "stream",
          "text": [
            "[nltk_data] Downloading package vader_lexicon to /root/nltk_data...\n",
            "[nltk_data]   Package vader_lexicon is already up-to-date!\n"
          ]
        }
      ],
      "source": [
        "# Downloading the VADER lexicon\n",
        "nltk.download('vader_lexicon')\n",
        "\n",
        "# Initializing the VADER sentiment analyzer to analyse the Text column in the dataset\n",
        "sia = SentimentIntensityAnalyzer()\n",
        "\n",
        "def analyze_sentiment(text):\n",
        "    # Determining the sentiment scores\n",
        "    sentiment_scores = sia.polarity_scores(text)\n",
        "\n",
        "    # Classifying the sentiment based on the compound score\n",
        "    if sentiment_scores['compound'] >= 0.05:\n",
        "        return 'positive' #if the sentiment score is grater than or equals to 0.05 then that is positive\n",
        "    elif sentiment_scores['compound'] <= -0.05:\n",
        "        return 'negative' #if the sentiment score is less than - 0.05 then that is negatitive\n",
        "    else:\n",
        "        return 'neutral' #If the sentiment score is between the -0.05 and 0.05 the that is neutral\n",
        "\n",
        "# Applying sentiment analysis to reviews (Text Column)\n",
        "reviews_df['Predicted_Sentiment'] = reviews_df['Text'].apply(analyze_sentiment)\n",
        "\n"
      ]
    },
    {
      "cell_type": "code",
      "execution_count": null,
      "metadata": {
        "colab": {
          "base_uri": "https://localhost:8080/",
          "height": 206
        },
        "id": "VQPE-tCRuYzR",
        "outputId": "231a6dc5-2423-4e1f-d5d6-95e8be6eb4fd"
      },
      "outputs": [
        {
          "data": {
            "application/vnd.google.colaboratory.intrinsic+json": {
              "summary": "{\n  \"name\": \"reviews_df[['Text', 'Score', 'Predicted_Sentiment']]\",\n  \"rows\": 5,\n  \"fields\": [\n    {\n      \"column\": \"Text\",\n      \"properties\": {\n        \"dtype\": \"string\",\n        \"num_unique_values\": 5,\n        \"samples\": [\n          \"Product arrived labeled as Jumbo Salted Peanuts...the peanuts were actually small sized unsalted. Not sure if this was an error or if the vendor intended to represent the product as \\\"Jumbo\\\".\",\n          \"Great taffy at a great price.  There was a wide assortment of yummy taffy.  Delivery was very quick.  If your a taffy lover, this is a deal.\",\n          \"This is a confection that has been around a few centuries.  It is a light, pillowy citrus gelatin with nuts - in this case Filberts. And it is cut into tiny squares and then liberally coated with powdered sugar.  And it is a tiny mouthful of heaven.  Not too chewy, and very flavorful.  I highly recommend this yummy treat.  If you are familiar with the story of C.S. Lewis' \\\"The Lion, The Witch, and The Wardrobe\\\" - this is the treat that seduces Edmund into selling out his Brother and Sisters to the Witch.\"\n        ],\n        \"semantic_type\": \"\",\n        \"description\": \"\"\n      }\n    },\n    {\n      \"column\": \"Score\",\n      \"properties\": {\n        \"dtype\": \"number\",\n        \"std\": 1,\n        \"min\": 1,\n        \"max\": 5,\n        \"num_unique_values\": 4,\n        \"samples\": [\n          1,\n          2,\n          5\n        ],\n        \"semantic_type\": \"\",\n        \"description\": \"\"\n      }\n    },\n    {\n      \"column\": \"Predicted_Sentiment\",\n      \"properties\": {\n        \"dtype\": \"string\",\n        \"num_unique_values\": 3,\n        \"samples\": [\n          \"positive\",\n          \"negative\",\n          \"neutral\"\n        ],\n        \"semantic_type\": \"\",\n        \"description\": \"\"\n      }\n    }\n  ]\n}",
              "type": "dataframe"
            },
            "text/html": [
              "\n",
              "  <div id=\"df-b65d78a9-93a4-49ce-9fd8-257dbd70caa4\" class=\"colab-df-container\">\n",
              "    <div>\n",
              "<style scoped>\n",
              "    .dataframe tbody tr th:only-of-type {\n",
              "        vertical-align: middle;\n",
              "    }\n",
              "\n",
              "    .dataframe tbody tr th {\n",
              "        vertical-align: top;\n",
              "    }\n",
              "\n",
              "    .dataframe thead th {\n",
              "        text-align: right;\n",
              "    }\n",
              "</style>\n",
              "<table border=\"1\" class=\"dataframe\">\n",
              "  <thead>\n",
              "    <tr style=\"text-align: right;\">\n",
              "      <th></th>\n",
              "      <th>Text</th>\n",
              "      <th>Score</th>\n",
              "      <th>Predicted_Sentiment</th>\n",
              "    </tr>\n",
              "  </thead>\n",
              "  <tbody>\n",
              "    <tr>\n",
              "      <th>0</th>\n",
              "      <td>I have bought several of the Vitality canned d...</td>\n",
              "      <td>5</td>\n",
              "      <td>positive</td>\n",
              "    </tr>\n",
              "    <tr>\n",
              "      <th>1</th>\n",
              "      <td>Product arrived labeled as Jumbo Salted Peanut...</td>\n",
              "      <td>1</td>\n",
              "      <td>negative</td>\n",
              "    </tr>\n",
              "    <tr>\n",
              "      <th>2</th>\n",
              "      <td>This is a confection that has been around a fe...</td>\n",
              "      <td>4</td>\n",
              "      <td>positive</td>\n",
              "    </tr>\n",
              "    <tr>\n",
              "      <th>3</th>\n",
              "      <td>If you are looking for the secret ingredient i...</td>\n",
              "      <td>2</td>\n",
              "      <td>neutral</td>\n",
              "    </tr>\n",
              "    <tr>\n",
              "      <th>4</th>\n",
              "      <td>Great taffy at a great price.  There was a wid...</td>\n",
              "      <td>5</td>\n",
              "      <td>positive</td>\n",
              "    </tr>\n",
              "  </tbody>\n",
              "</table>\n",
              "</div>\n",
              "    <div class=\"colab-df-buttons\">\n",
              "\n",
              "  <div class=\"colab-df-container\">\n",
              "    <button class=\"colab-df-convert\" onclick=\"convertToInteractive('df-b65d78a9-93a4-49ce-9fd8-257dbd70caa4')\"\n",
              "            title=\"Convert this dataframe to an interactive table.\"\n",
              "            style=\"display:none;\">\n",
              "\n",
              "  <svg xmlns=\"http://www.w3.org/2000/svg\" height=\"24px\" viewBox=\"0 -960 960 960\">\n",
              "    <path d=\"M120-120v-720h720v720H120Zm60-500h600v-160H180v160Zm220 220h160v-160H400v160Zm0 220h160v-160H400v160ZM180-400h160v-160H180v160Zm440 0h160v-160H620v160ZM180-180h160v-160H180v160Zm440 0h160v-160H620v160Z\"/>\n",
              "  </svg>\n",
              "    </button>\n",
              "\n",
              "  <style>\n",
              "    .colab-df-container {\n",
              "      display:flex;\n",
              "      gap: 12px;\n",
              "    }\n",
              "\n",
              "    .colab-df-convert {\n",
              "      background-color: #E8F0FE;\n",
              "      border: none;\n",
              "      border-radius: 50%;\n",
              "      cursor: pointer;\n",
              "      display: none;\n",
              "      fill: #1967D2;\n",
              "      height: 32px;\n",
              "      padding: 0 0 0 0;\n",
              "      width: 32px;\n",
              "    }\n",
              "\n",
              "    .colab-df-convert:hover {\n",
              "      background-color: #E2EBFA;\n",
              "      box-shadow: 0px 1px 2px rgba(60, 64, 67, 0.3), 0px 1px 3px 1px rgba(60, 64, 67, 0.15);\n",
              "      fill: #174EA6;\n",
              "    }\n",
              "\n",
              "    .colab-df-buttons div {\n",
              "      margin-bottom: 4px;\n",
              "    }\n",
              "\n",
              "    [theme=dark] .colab-df-convert {\n",
              "      background-color: #3B4455;\n",
              "      fill: #D2E3FC;\n",
              "    }\n",
              "\n",
              "    [theme=dark] .colab-df-convert:hover {\n",
              "      background-color: #434B5C;\n",
              "      box-shadow: 0px 1px 3px 1px rgba(0, 0, 0, 0.15);\n",
              "      filter: drop-shadow(0px 1px 2px rgba(0, 0, 0, 0.3));\n",
              "      fill: #FFFFFF;\n",
              "    }\n",
              "  </style>\n",
              "\n",
              "    <script>\n",
              "      const buttonEl =\n",
              "        document.querySelector('#df-b65d78a9-93a4-49ce-9fd8-257dbd70caa4 button.colab-df-convert');\n",
              "      buttonEl.style.display =\n",
              "        google.colab.kernel.accessAllowed ? 'block' : 'none';\n",
              "\n",
              "      async function convertToInteractive(key) {\n",
              "        const element = document.querySelector('#df-b65d78a9-93a4-49ce-9fd8-257dbd70caa4');\n",
              "        const dataTable =\n",
              "          await google.colab.kernel.invokeFunction('convertToInteractive',\n",
              "                                                    [key], {});\n",
              "        if (!dataTable) return;\n",
              "\n",
              "        const docLinkHtml = 'Like what you see? Visit the ' +\n",
              "          '<a target=\"_blank\" href=https://colab.research.google.com/notebooks/data_table.ipynb>data table notebook</a>'\n",
              "          + ' to learn more about interactive tables.';\n",
              "        element.innerHTML = '';\n",
              "        dataTable['output_type'] = 'display_data';\n",
              "        await google.colab.output.renderOutput(dataTable, element);\n",
              "        const docLink = document.createElement('div');\n",
              "        docLink.innerHTML = docLinkHtml;\n",
              "        element.appendChild(docLink);\n",
              "      }\n",
              "    </script>\n",
              "  </div>\n",
              "\n",
              "\n",
              "<div id=\"df-83fc5167-16ea-4189-ac41-ffed9626be67\">\n",
              "  <button class=\"colab-df-quickchart\" onclick=\"quickchart('df-83fc5167-16ea-4189-ac41-ffed9626be67')\"\n",
              "            title=\"Suggest charts\"\n",
              "            style=\"display:none;\">\n",
              "\n",
              "<svg xmlns=\"http://www.w3.org/2000/svg\" height=\"24px\"viewBox=\"0 0 24 24\"\n",
              "     width=\"24px\">\n",
              "    <g>\n",
              "        <path d=\"M19 3H5c-1.1 0-2 .9-2 2v14c0 1.1.9 2 2 2h14c1.1 0 2-.9 2-2V5c0-1.1-.9-2-2-2zM9 17H7v-7h2v7zm4 0h-2V7h2v10zm4 0h-2v-4h2v4z\"/>\n",
              "    </g>\n",
              "</svg>\n",
              "  </button>\n",
              "\n",
              "<style>\n",
              "  .colab-df-quickchart {\n",
              "      --bg-color: #E8F0FE;\n",
              "      --fill-color: #1967D2;\n",
              "      --hover-bg-color: #E2EBFA;\n",
              "      --hover-fill-color: #174EA6;\n",
              "      --disabled-fill-color: #AAA;\n",
              "      --disabled-bg-color: #DDD;\n",
              "  }\n",
              "\n",
              "  [theme=dark] .colab-df-quickchart {\n",
              "      --bg-color: #3B4455;\n",
              "      --fill-color: #D2E3FC;\n",
              "      --hover-bg-color: #434B5C;\n",
              "      --hover-fill-color: #FFFFFF;\n",
              "      --disabled-bg-color: #3B4455;\n",
              "      --disabled-fill-color: #666;\n",
              "  }\n",
              "\n",
              "  .colab-df-quickchart {\n",
              "    background-color: var(--bg-color);\n",
              "    border: none;\n",
              "    border-radius: 50%;\n",
              "    cursor: pointer;\n",
              "    display: none;\n",
              "    fill: var(--fill-color);\n",
              "    height: 32px;\n",
              "    padding: 0;\n",
              "    width: 32px;\n",
              "  }\n",
              "\n",
              "  .colab-df-quickchart:hover {\n",
              "    background-color: var(--hover-bg-color);\n",
              "    box-shadow: 0 1px 2px rgba(60, 64, 67, 0.3), 0 1px 3px 1px rgba(60, 64, 67, 0.15);\n",
              "    fill: var(--button-hover-fill-color);\n",
              "  }\n",
              "\n",
              "  .colab-df-quickchart-complete:disabled,\n",
              "  .colab-df-quickchart-complete:disabled:hover {\n",
              "    background-color: var(--disabled-bg-color);\n",
              "    fill: var(--disabled-fill-color);\n",
              "    box-shadow: none;\n",
              "  }\n",
              "\n",
              "  .colab-df-spinner {\n",
              "    border: 2px solid var(--fill-color);\n",
              "    border-color: transparent;\n",
              "    border-bottom-color: var(--fill-color);\n",
              "    animation:\n",
              "      spin 1s steps(1) infinite;\n",
              "  }\n",
              "\n",
              "  @keyframes spin {\n",
              "    0% {\n",
              "      border-color: transparent;\n",
              "      border-bottom-color: var(--fill-color);\n",
              "      border-left-color: var(--fill-color);\n",
              "    }\n",
              "    20% {\n",
              "      border-color: transparent;\n",
              "      border-left-color: var(--fill-color);\n",
              "      border-top-color: var(--fill-color);\n",
              "    }\n",
              "    30% {\n",
              "      border-color: transparent;\n",
              "      border-left-color: var(--fill-color);\n",
              "      border-top-color: var(--fill-color);\n",
              "      border-right-color: var(--fill-color);\n",
              "    }\n",
              "    40% {\n",
              "      border-color: transparent;\n",
              "      border-right-color: var(--fill-color);\n",
              "      border-top-color: var(--fill-color);\n",
              "    }\n",
              "    60% {\n",
              "      border-color: transparent;\n",
              "      border-right-color: var(--fill-color);\n",
              "    }\n",
              "    80% {\n",
              "      border-color: transparent;\n",
              "      border-right-color: var(--fill-color);\n",
              "      border-bottom-color: var(--fill-color);\n",
              "    }\n",
              "    90% {\n",
              "      border-color: transparent;\n",
              "      border-bottom-color: var(--fill-color);\n",
              "    }\n",
              "  }\n",
              "</style>\n",
              "\n",
              "  <script>\n",
              "    async function quickchart(key) {\n",
              "      const quickchartButtonEl =\n",
              "        document.querySelector('#' + key + ' button');\n",
              "      quickchartButtonEl.disabled = true;  // To prevent multiple clicks.\n",
              "      quickchartButtonEl.classList.add('colab-df-spinner');\n",
              "      try {\n",
              "        const charts = await google.colab.kernel.invokeFunction(\n",
              "            'suggestCharts', [key], {});\n",
              "      } catch (error) {\n",
              "        console.error('Error during call to suggestCharts:', error);\n",
              "      }\n",
              "      quickchartButtonEl.classList.remove('colab-df-spinner');\n",
              "      quickchartButtonEl.classList.add('colab-df-quickchart-complete');\n",
              "    }\n",
              "    (() => {\n",
              "      let quickchartButtonEl =\n",
              "        document.querySelector('#df-83fc5167-16ea-4189-ac41-ffed9626be67 button');\n",
              "      quickchartButtonEl.style.display =\n",
              "        google.colab.kernel.accessAllowed ? 'block' : 'none';\n",
              "    })();\n",
              "  </script>\n",
              "</div>\n",
              "\n",
              "    </div>\n",
              "  </div>\n"
            ],
            "text/plain": [
              "                                                Text  Score  \\\n",
              "0  I have bought several of the Vitality canned d...      5   \n",
              "1  Product arrived labeled as Jumbo Salted Peanut...      1   \n",
              "2  This is a confection that has been around a fe...      4   \n",
              "3  If you are looking for the secret ingredient i...      2   \n",
              "4  Great taffy at a great price.  There was a wid...      5   \n",
              "\n",
              "  Predicted_Sentiment  \n",
              "0            positive  \n",
              "1            negative  \n",
              "2            positive  \n",
              "3             neutral  \n",
              "4            positive  "
            ]
          },
          "execution_count": 41,
          "metadata": {},
          "output_type": "execute_result"
        }
      ],
      "source": [
        "# Displaying results\n",
        "reviews_df[['Text', 'Score', 'Predicted_Sentiment']].head()\n"
      ]
    },
    {
      "cell_type": "code",
      "execution_count": null,
      "metadata": {
        "colab": {
          "base_uri": "https://localhost:8080/"
        },
        "id": "oy2VifhNuoPL",
        "outputId": "f44dc1f0-fb9d-4c4b-ebba-81f790718027"
      },
      "outputs": [
        {
          "name": "stdout",
          "output_type": "stream",
          "text": [
            "Predicted_Sentiment\n",
            "positive    496967\n",
            "negative     59333\n",
            "neutral      12154\n",
            "Name: count, dtype: int64\n"
          ]
        }
      ],
      "source": [
        "print(reviews_df['Predicted_Sentiment'].value_counts())"
      ]
    },
    {
      "cell_type": "markdown",
      "metadata": {},
      "source": [
        "- The dataset is heavily skewed towards positive sentiments. There's a significant imbalance between positive and negative reviews. Neutral reviews are the least common."
      ]
    },
    {
      "cell_type": "markdown",
      "metadata": {
        "id": "sDXNEH02RAXg"
      },
      "source": [
        "### 2. Preprocessing\n",
        "\n",
        "Here some pre-processing will be done to filter out unwanted components of the text and convert the data into a cleaned string desirable for analysis.\n",
        "- Lowercasing: Converting all text to lowercase is standardized where “Dog” is equal to “dog”. This is important for dimensional reduction since it eliminates the creation of new token every time there is a difference in capitalization.\n",
        "- Tokenization: The word_tokenize function helps to split the text to the words that are also referred to as tokens. Tokenization lets the model to process text with respect to words.\n",
        "- Removing Punctuation: With exception to apostrophes, certain subsidiary punctuations are erased to emphasize on the words themselves. This is important because aside from being a set of marks that is inserted in between the words of a text, it does not affect the input or feel of the text.\n",
        "- Stop Word Removal: Stoppers are words, which are noise, and do not contain much information such as “and” “the”. This is useful in a way that it minimizes noise in the datasets and increases the effectiveness of the analysis.\n",
        "- Lemmatization: This technique brings down words to the simplest form (stemming for example, where “running” is reduced to “run”). Lemmatization reduces the list of words but retains their meaning additional information is always useful in improving the model’s performance.\n",
        "- Joining Tokens: The produced tokens are concatenated back into one string again which can be useful for further examination."
      ]
    },
    {
      "cell_type": "code",
      "execution_count": null,
      "metadata": {
        "id": "0mxVctRWRAXg"
      },
      "outputs": [],
      "source": [
        "def preprocess_text(text):\n",
        "    # Converting to the Lowercase the text\n",
        "    text = text.lower()\n",
        "\n",
        "    # Tokenizing the text\n",
        "    tokens = word_tokenize(text)\n",
        "\n",
        "    # Removing punctuation marks in the text\n",
        "    tokens = [token for token in tokens if token not in string.punctuation]\n",
        "\n",
        "    # Removing stop words in the text\n",
        "    stop_words = set(stopwords.words('english'))\n",
        "    tokens = [token for token in tokens if token not in stop_words]\n",
        "\n",
        "    # Lemmatization of the text\n",
        "    lemmatizer = WordNetLemmatizer()\n",
        "    tokens = [lemmatizer.lemmatize(token) for token in tokens]\n",
        "\n",
        "    # Joining tokens back into a single string\n",
        "    preprocessed_text = ' '.join(tokens)\n",
        "\n",
        "    return preprocessed_text # Returning preprocessed Text\n",
        "\n",
        "# Applying preprocessing to the 'Text' column\n",
        "reviews_df['Preprocessed_Text'] = reviews_df['Text'].apply(preprocess_text)"
      ]
    },
    {
      "cell_type": "markdown",
      "metadata": {},
      "source": [
        "- Below we are displaying the shape of DataFrame to give an overview of how many rows and columns it contains.\n",
        "- Also, printing the summary of missing values for each column for ensuring the integrity of the dataset and for determining how to handle these missing values effectively."
      ]
    },
    {
      "cell_type": "markdown",
      "metadata": {
        "id": "DAHpVzN_RAXh"
      },
      "source": [
        "Remove any irrelevant columns, handle missing values, and clean text data by removing special characters, stopwords, and performing stemming/lemmatization."
      ]
    },
    {
      "cell_type": "code",
      "execution_count": null,
      "metadata": {
        "colab": {
          "base_uri": "https://localhost:8080/"
        },
        "id": "dVYXzc-ZRAXh",
        "outputId": "26b6dc1d-7bb6-4720-96af-dea360d443af"
      },
      "outputs": [
        {
          "name": "stdout",
          "output_type": "stream",
          "text": [
            "Shape of the dataset: (568454, 12)\n",
            "\n",
            "Missing Values Summary:\n",
            "Id                         0\n",
            "ProductId                  0\n",
            "UserId                     0\n",
            "ProfileName               26\n",
            "HelpfulnessNumerator       0\n",
            "HelpfulnessDenominator     0\n",
            "Score                      0\n",
            "Time                       0\n",
            "Summary                   27\n",
            "Text                       0\n",
            "Predicted_Sentiment        0\n",
            "Preprocessed_Text          0\n",
            "dtype: int64\n"
          ]
        }
      ],
      "source": [
        "#Printing the shape of the data set\n",
        "print(f'Shape of the dataset: {reviews_df.shape}')\n",
        "\n",
        "# Checking for missing values\n",
        "print(\"\\nMissing Values Summary:\")\n",
        "print(reviews_df.isnull().sum())"
      ]
    },
    {
      "cell_type": "markdown",
      "metadata": {},
      "source": [
        "- Filling Numeric Missing Values: Numeric columns are filled with a default value (0 in this case). This prevents errors during analysis or modeling that can arise from missing values.\n",
        "- Filling Text Missing Values: Text columns are filled with \"Unknown\" as a placeholder to maintain the integrity of the dataset without introducing bias.\n",
        "- This will help us to prevents errors in downstream operations by ensuring no missing values remain and will allow analysis without losing rows of data."
      ]
    },
    {
      "cell_type": "code",
      "execution_count": null,
      "metadata": {
        "id": "kg1BDE9SRAXh"
      },
      "outputs": [],
      "source": [
        "# Handling missing values\n",
        "# Replacing missing values in numeric columns with the mean\n",
        "numeric_columns = reviews_df.select_dtypes(include=['float64', 'int64']).columns\n",
        "reviews_df[numeric_columns] = reviews_df[numeric_columns].fillna(0)\n",
        "\n",
        "# Replacing missing values in string/text columns with a placeholder --> \"Unknown\"\n",
        "text_columns = reviews_df.select_dtypes(include=['object']).columns\n",
        "reviews_df[text_columns] = reviews_df[text_columns].fillna(\"Unknown\")"
      ]
    },
    {
      "cell_type": "code",
      "execution_count": null,
      "metadata": {
        "colab": {
          "base_uri": "https://localhost:8080/"
        },
        "id": "mW7ik84PRAXh",
        "outputId": "40052fc6-d0bc-476b-8702-aafa05fa1856"
      },
      "outputs": [
        {
          "name": "stdout",
          "output_type": "stream",
          "text": [
            "Missing Values After Filling:\n",
            "Id                        0\n",
            "ProductId                 0\n",
            "UserId                    0\n",
            "ProfileName               0\n",
            "HelpfulnessNumerator      0\n",
            "HelpfulnessDenominator    0\n",
            "Score                     0\n",
            "Time                      0\n",
            "Summary                   0\n",
            "Text                      0\n",
            "Predicted_Sentiment       0\n",
            "Preprocessed_Text         0\n",
            "dtype: int64\n"
          ]
        }
      ],
      "source": [
        "# Checking after handling missing values is their missing values in the dataset or not\n",
        "print(\"Missing Values After Filling:\")\n",
        "print(reviews_df.isnull().sum())"
      ]
    },
    {
      "cell_type": "markdown",
      "metadata": {},
      "source": [
        "#### Cleaning Text Data\n",
        "\n",
        "To get cleaned text which is free from noise, making it suitable for analysis. The cleaned text retains the essential words necessary for sentiment analysis:\n",
        "- Lowercasing: Similar to the previous preprocessing, converting to lowercase standardizes the text.\n",
        "- Removing URLs: This ensures that any web links do not interfere with the sentiment analysis. URLs often do not contribute meaningfully to the content.\n",
        "- Handling Hashtags: Hashtags are stripped of the # symbol to treat the underlying word as a regular token.\n",
        "- Removing Emojis: Emojis can be complex to interpret. They are converted to their textual representation and then removed to avoid introducing noise.\n",
        "- Removing Special Characters: Non-alphabetic characters and digits are removed to focus on the actual words.\n",
        "- Tokenization and Stop Word Removal: The cleaned text is tokenized, and stop words are removed, followed by lemmatization.\n",
        "\n",
        "After applying cleaning function it removes noise and dataset-specific challenges like emojis, hashtags, and URLs."
      ]
    },
    {
      "cell_type": "markdown",
      "metadata": {
        "id": "A8Fd9-5_RAXi"
      },
      "source": [
        "Handle specific challenges of used text like hashtags, emojis, and slang."
      ]
    },
    {
      "cell_type": "code",
      "execution_count": null,
      "metadata": {
        "colab": {
          "base_uri": "https://localhost:8080/",
          "height": 206
        },
        "id": "MG8Av3-FRAXi",
        "outputId": "f9dcd774-ef13-476c-f75f-150298191720"
      },
      "outputs": [
        {
          "data": {
            "application/vnd.google.colaboratory.intrinsic+json": {
              "summary": "{\n  \"name\": \"reviews_df[['Text', 'Cleaned_Text']]\",\n  \"rows\": 5,\n  \"fields\": [\n    {\n      \"column\": \"Text\",\n      \"properties\": {\n        \"dtype\": \"string\",\n        \"num_unique_values\": 5,\n        \"samples\": [\n          \"Product arrived labeled as Jumbo Salted Peanuts...the peanuts were actually small sized unsalted. Not sure if this was an error or if the vendor intended to represent the product as \\\"Jumbo\\\".\",\n          \"Great taffy at a great price.  There was a wide assortment of yummy taffy.  Delivery was very quick.  If your a taffy lover, this is a deal.\",\n          \"This is a confection that has been around a few centuries.  It is a light, pillowy citrus gelatin with nuts - in this case Filberts. And it is cut into tiny squares and then liberally coated with powdered sugar.  And it is a tiny mouthful of heaven.  Not too chewy, and very flavorful.  I highly recommend this yummy treat.  If you are familiar with the story of C.S. Lewis' \\\"The Lion, The Witch, and The Wardrobe\\\" - this is the treat that seduces Edmund into selling out his Brother and Sisters to the Witch.\"\n        ],\n        \"semantic_type\": \"\",\n        \"description\": \"\"\n      }\n    },\n    {\n      \"column\": \"Cleaned_Text\",\n      \"properties\": {\n        \"dtype\": \"string\",\n        \"num_unique_values\": 5,\n        \"samples\": [\n          \"product arrived labeled jumbo salted peanutsthe peanut actually small sized unsalted sure error vendor intended represent product jumbo\",\n          \"great taffy great price wide assortment yummy taffy delivery quick taffy lover deal\",\n          \"confection around century light pillowy citrus gelatin nut case filbert cut tiny square liberally coated powdered sugar tiny mouthful heaven chewy flavorful highly recommend yummy treat familiar story c lewis lion witch wardrobe treat seduces edmund selling brother sister witch\"\n        ],\n        \"semantic_type\": \"\",\n        \"description\": \"\"\n      }\n    }\n  ]\n}",
              "type": "dataframe"
            },
            "text/html": [
              "\n",
              "  <div id=\"df-fa97e874-9544-4c11-b3cc-abdedd8807b1\" class=\"colab-df-container\">\n",
              "    <div>\n",
              "<style scoped>\n",
              "    .dataframe tbody tr th:only-of-type {\n",
              "        vertical-align: middle;\n",
              "    }\n",
              "\n",
              "    .dataframe tbody tr th {\n",
              "        vertical-align: top;\n",
              "    }\n",
              "\n",
              "    .dataframe thead th {\n",
              "        text-align: right;\n",
              "    }\n",
              "</style>\n",
              "<table border=\"1\" class=\"dataframe\">\n",
              "  <thead>\n",
              "    <tr style=\"text-align: right;\">\n",
              "      <th></th>\n",
              "      <th>Text</th>\n",
              "      <th>Cleaned_Text</th>\n",
              "    </tr>\n",
              "  </thead>\n",
              "  <tbody>\n",
              "    <tr>\n",
              "      <th>0</th>\n",
              "      <td>I have bought several of the Vitality canned d...</td>\n",
              "      <td>bought several vitality canned dog food produc...</td>\n",
              "    </tr>\n",
              "    <tr>\n",
              "      <th>1</th>\n",
              "      <td>Product arrived labeled as Jumbo Salted Peanut...</td>\n",
              "      <td>product arrived labeled jumbo salted peanutsth...</td>\n",
              "    </tr>\n",
              "    <tr>\n",
              "      <th>2</th>\n",
              "      <td>This is a confection that has been around a fe...</td>\n",
              "      <td>confection around century light pillowy citrus...</td>\n",
              "    </tr>\n",
              "    <tr>\n",
              "      <th>3</th>\n",
              "      <td>If you are looking for the secret ingredient i...</td>\n",
              "      <td>looking secret ingredient robitussin believe f...</td>\n",
              "    </tr>\n",
              "    <tr>\n",
              "      <th>4</th>\n",
              "      <td>Great taffy at a great price.  There was a wid...</td>\n",
              "      <td>great taffy great price wide assortment yummy ...</td>\n",
              "    </tr>\n",
              "  </tbody>\n",
              "</table>\n",
              "</div>\n",
              "    <div class=\"colab-df-buttons\">\n",
              "\n",
              "  <div class=\"colab-df-container\">\n",
              "    <button class=\"colab-df-convert\" onclick=\"convertToInteractive('df-fa97e874-9544-4c11-b3cc-abdedd8807b1')\"\n",
              "            title=\"Convert this dataframe to an interactive table.\"\n",
              "            style=\"display:none;\">\n",
              "\n",
              "  <svg xmlns=\"http://www.w3.org/2000/svg\" height=\"24px\" viewBox=\"0 -960 960 960\">\n",
              "    <path d=\"M120-120v-720h720v720H120Zm60-500h600v-160H180v160Zm220 220h160v-160H400v160Zm0 220h160v-160H400v160ZM180-400h160v-160H180v160Zm440 0h160v-160H620v160ZM180-180h160v-160H180v160Zm440 0h160v-160H620v160Z\"/>\n",
              "  </svg>\n",
              "    </button>\n",
              "\n",
              "  <style>\n",
              "    .colab-df-container {\n",
              "      display:flex;\n",
              "      gap: 12px;\n",
              "    }\n",
              "\n",
              "    .colab-df-convert {\n",
              "      background-color: #E8F0FE;\n",
              "      border: none;\n",
              "      border-radius: 50%;\n",
              "      cursor: pointer;\n",
              "      display: none;\n",
              "      fill: #1967D2;\n",
              "      height: 32px;\n",
              "      padding: 0 0 0 0;\n",
              "      width: 32px;\n",
              "    }\n",
              "\n",
              "    .colab-df-convert:hover {\n",
              "      background-color: #E2EBFA;\n",
              "      box-shadow: 0px 1px 2px rgba(60, 64, 67, 0.3), 0px 1px 3px 1px rgba(60, 64, 67, 0.15);\n",
              "      fill: #174EA6;\n",
              "    }\n",
              "\n",
              "    .colab-df-buttons div {\n",
              "      margin-bottom: 4px;\n",
              "    }\n",
              "\n",
              "    [theme=dark] .colab-df-convert {\n",
              "      background-color: #3B4455;\n",
              "      fill: #D2E3FC;\n",
              "    }\n",
              "\n",
              "    [theme=dark] .colab-df-convert:hover {\n",
              "      background-color: #434B5C;\n",
              "      box-shadow: 0px 1px 3px 1px rgba(0, 0, 0, 0.15);\n",
              "      filter: drop-shadow(0px 1px 2px rgba(0, 0, 0, 0.3));\n",
              "      fill: #FFFFFF;\n",
              "    }\n",
              "  </style>\n",
              "\n",
              "    <script>\n",
              "      const buttonEl =\n",
              "        document.querySelector('#df-fa97e874-9544-4c11-b3cc-abdedd8807b1 button.colab-df-convert');\n",
              "      buttonEl.style.display =\n",
              "        google.colab.kernel.accessAllowed ? 'block' : 'none';\n",
              "\n",
              "      async function convertToInteractive(key) {\n",
              "        const element = document.querySelector('#df-fa97e874-9544-4c11-b3cc-abdedd8807b1');\n",
              "        const dataTable =\n",
              "          await google.colab.kernel.invokeFunction('convertToInteractive',\n",
              "                                                    [key], {});\n",
              "        if (!dataTable) return;\n",
              "\n",
              "        const docLinkHtml = 'Like what you see? Visit the ' +\n",
              "          '<a target=\"_blank\" href=https://colab.research.google.com/notebooks/data_table.ipynb>data table notebook</a>'\n",
              "          + ' to learn more about interactive tables.';\n",
              "        element.innerHTML = '';\n",
              "        dataTable['output_type'] = 'display_data';\n",
              "        await google.colab.output.renderOutput(dataTable, element);\n",
              "        const docLink = document.createElement('div');\n",
              "        docLink.innerHTML = docLinkHtml;\n",
              "        element.appendChild(docLink);\n",
              "      }\n",
              "    </script>\n",
              "  </div>\n",
              "\n",
              "\n",
              "<div id=\"df-af7149b9-715b-42dc-8d2b-897f0dee745a\">\n",
              "  <button class=\"colab-df-quickchart\" onclick=\"quickchart('df-af7149b9-715b-42dc-8d2b-897f0dee745a')\"\n",
              "            title=\"Suggest charts\"\n",
              "            style=\"display:none;\">\n",
              "\n",
              "<svg xmlns=\"http://www.w3.org/2000/svg\" height=\"24px\"viewBox=\"0 0 24 24\"\n",
              "     width=\"24px\">\n",
              "    <g>\n",
              "        <path d=\"M19 3H5c-1.1 0-2 .9-2 2v14c0 1.1.9 2 2 2h14c1.1 0 2-.9 2-2V5c0-1.1-.9-2-2-2zM9 17H7v-7h2v7zm4 0h-2V7h2v10zm4 0h-2v-4h2v4z\"/>\n",
              "    </g>\n",
              "</svg>\n",
              "  </button>\n",
              "\n",
              "<style>\n",
              "  .colab-df-quickchart {\n",
              "      --bg-color: #E8F0FE;\n",
              "      --fill-color: #1967D2;\n",
              "      --hover-bg-color: #E2EBFA;\n",
              "      --hover-fill-color: #174EA6;\n",
              "      --disabled-fill-color: #AAA;\n",
              "      --disabled-bg-color: #DDD;\n",
              "  }\n",
              "\n",
              "  [theme=dark] .colab-df-quickchart {\n",
              "      --bg-color: #3B4455;\n",
              "      --fill-color: #D2E3FC;\n",
              "      --hover-bg-color: #434B5C;\n",
              "      --hover-fill-color: #FFFFFF;\n",
              "      --disabled-bg-color: #3B4455;\n",
              "      --disabled-fill-color: #666;\n",
              "  }\n",
              "\n",
              "  .colab-df-quickchart {\n",
              "    background-color: var(--bg-color);\n",
              "    border: none;\n",
              "    border-radius: 50%;\n",
              "    cursor: pointer;\n",
              "    display: none;\n",
              "    fill: var(--fill-color);\n",
              "    height: 32px;\n",
              "    padding: 0;\n",
              "    width: 32px;\n",
              "  }\n",
              "\n",
              "  .colab-df-quickchart:hover {\n",
              "    background-color: var(--hover-bg-color);\n",
              "    box-shadow: 0 1px 2px rgba(60, 64, 67, 0.3), 0 1px 3px 1px rgba(60, 64, 67, 0.15);\n",
              "    fill: var(--button-hover-fill-color);\n",
              "  }\n",
              "\n",
              "  .colab-df-quickchart-complete:disabled,\n",
              "  .colab-df-quickchart-complete:disabled:hover {\n",
              "    background-color: var(--disabled-bg-color);\n",
              "    fill: var(--disabled-fill-color);\n",
              "    box-shadow: none;\n",
              "  }\n",
              "\n",
              "  .colab-df-spinner {\n",
              "    border: 2px solid var(--fill-color);\n",
              "    border-color: transparent;\n",
              "    border-bottom-color: var(--fill-color);\n",
              "    animation:\n",
              "      spin 1s steps(1) infinite;\n",
              "  }\n",
              "\n",
              "  @keyframes spin {\n",
              "    0% {\n",
              "      border-color: transparent;\n",
              "      border-bottom-color: var(--fill-color);\n",
              "      border-left-color: var(--fill-color);\n",
              "    }\n",
              "    20% {\n",
              "      border-color: transparent;\n",
              "      border-left-color: var(--fill-color);\n",
              "      border-top-color: var(--fill-color);\n",
              "    }\n",
              "    30% {\n",
              "      border-color: transparent;\n",
              "      border-left-color: var(--fill-color);\n",
              "      border-top-color: var(--fill-color);\n",
              "      border-right-color: var(--fill-color);\n",
              "    }\n",
              "    40% {\n",
              "      border-color: transparent;\n",
              "      border-right-color: var(--fill-color);\n",
              "      border-top-color: var(--fill-color);\n",
              "    }\n",
              "    60% {\n",
              "      border-color: transparent;\n",
              "      border-right-color: var(--fill-color);\n",
              "    }\n",
              "    80% {\n",
              "      border-color: transparent;\n",
              "      border-right-color: var(--fill-color);\n",
              "      border-bottom-color: var(--fill-color);\n",
              "    }\n",
              "    90% {\n",
              "      border-color: transparent;\n",
              "      border-bottom-color: var(--fill-color);\n",
              "    }\n",
              "  }\n",
              "</style>\n",
              "\n",
              "  <script>\n",
              "    async function quickchart(key) {\n",
              "      const quickchartButtonEl =\n",
              "        document.querySelector('#' + key + ' button');\n",
              "      quickchartButtonEl.disabled = true;  // To prevent multiple clicks.\n",
              "      quickchartButtonEl.classList.add('colab-df-spinner');\n",
              "      try {\n",
              "        const charts = await google.colab.kernel.invokeFunction(\n",
              "            'suggestCharts', [key], {});\n",
              "      } catch (error) {\n",
              "        console.error('Error during call to suggestCharts:', error);\n",
              "      }\n",
              "      quickchartButtonEl.classList.remove('colab-df-spinner');\n",
              "      quickchartButtonEl.classList.add('colab-df-quickchart-complete');\n",
              "    }\n",
              "    (() => {\n",
              "      let quickchartButtonEl =\n",
              "        document.querySelector('#df-af7149b9-715b-42dc-8d2b-897f0dee745a button');\n",
              "      quickchartButtonEl.style.display =\n",
              "        google.colab.kernel.accessAllowed ? 'block' : 'none';\n",
              "    })();\n",
              "  </script>\n",
              "</div>\n",
              "\n",
              "    </div>\n",
              "  </div>\n"
            ],
            "text/plain": [
              "                                                Text  \\\n",
              "0  I have bought several of the Vitality canned d...   \n",
              "1  Product arrived labeled as Jumbo Salted Peanut...   \n",
              "2  This is a confection that has been around a fe...   \n",
              "3  If you are looking for the secret ingredient i...   \n",
              "4  Great taffy at a great price.  There was a wid...   \n",
              "\n",
              "                                        Cleaned_Text  \n",
              "0  bought several vitality canned dog food produc...  \n",
              "1  product arrived labeled jumbo salted peanutsth...  \n",
              "2  confection around century light pillowy citrus...  \n",
              "3  looking secret ingredient robitussin believe f...  \n",
              "4  great taffy great price wide assortment yummy ...  "
            ]
          },
          "execution_count": 47,
          "metadata": {},
          "output_type": "execute_result"
        }
      ],
      "source": [
        "#Importing the required libraries\n",
        "import emoji\n",
        "import re\n",
        "\n",
        "lemmatizer = WordNetLemmatizer()\n",
        "stop_words = set(stopwords.words('english'))\n",
        "\n",
        "def clean_text(text):\n",
        "    # Converting to lowercase\n",
        "    text = text.lower()\n",
        "\n",
        "    # Removing the URLs\n",
        "    text = re.sub(r'http\\S+|www\\S+|https\\S+', '', text, flags=re.MULTILINE)\n",
        "\n",
        "    # Handling hashtags -> remove # symbol\n",
        "    text = re.sub(r'#(\\w+)', r'\\1', text)\n",
        "\n",
        "    # Removing emojis\n",
        "    text = emoji.demojize(text)\n",
        "    text = re.sub(r':[a-z_]+:', '', text)\n",
        "\n",
        "    # Removing special characters and digits\n",
        "    text = re.sub(r'[^a-zA-Z\\s]', '', text)\n",
        "\n",
        "    # Tokenize\n",
        "    tokens = word_tokenize(text)\n",
        "\n",
        "    # Removing stopwords and lemmatize\n",
        "    cleaned_tokens = [lemmatizer.lemmatize(word) for word in tokens if word not in stop_words]\n",
        "\n",
        "    return ' '.join(cleaned_tokens) #Joining the all words\n",
        "\n",
        "# Applying the cleaning function to your dataset\n",
        "reviews_df['Cleaned_Text'] = reviews_df['Text'].apply(clean_text)\n",
        "\n",
        "# Displaying a sample of the cleaned text\n",
        "reviews_df[['Text', 'Cleaned_Text']].head()"
      ]
    },
    {
      "cell_type": "markdown",
      "metadata": {
        "id": "ZmyIx5y-RAXi"
      },
      "source": [
        "3. Feature Extraction and Model Comparison"
      ]
    },
    {
      "cell_type": "markdown",
      "metadata": {},
      "source": [
        "A. Bag-of-Words (BoW)\n",
        "- Technique Overview:\n",
        "    - The Bag-of-Words model describes text by list of words ignoring the grammatical structure, arranging words by their frequency.\n",
        "    - It produces a matrix which has the number of rows equal the number of documents and number of column equal to the number of unique word in the whole corpus.\n",
        "    - Frequency of each word is applied in order to form a feature vector for the machine learning operation\n",
        "    - Both text samples are then converted into vectors in which each element is a word of the given vocabulary, and the element value is the word frequency.\n",
        "- Code Flow:\n",
        "    - The cleaned text data is extracted from the DataFrame.\n",
        "    - A CountVectorizer is initialized to fit the vectorizer to the data convert the text into a matrix of token counts.\n",
        "    - The fit_transform function is called to learn the vocabulary and transform the text into a BoW representation which is a sparse matrix with a size equal to the number of unique words in the dataset.\n",
        "- Why we are using this?\n",
        "    - Effective for high-dimensional sparse datasets.\n",
        "    - BoW is computationally efficient and works well for text classification tasks where word occurrence is a key feature.\n",
        "    - But may not capture semantic meanings or relationships between words."
      ]
    },
    {
      "cell_type": "code",
      "execution_count": null,
      "metadata": {
        "colab": {
          "base_uri": "https://localhost:8080/"
        },
        "id": "m1QrLf_wRAXj",
        "outputId": "bfd78195-52b9-4191-bab1-27df56b5bd19"
      },
      "outputs": [
        {
          "name": "stdout",
          "output_type": "stream",
          "text": [
            "Extracting Bag-of-Words features...\n",
            "  (0, 20284)\t1\n",
            "  (0, 160853)\t1\n",
            "  (0, 197008)\t1\n",
            "  (0, 26426)\t1\n",
            "  (0, 52611)\t1\n",
            "  (0, 68917)\t1\n",
            "  (0, 142351)\t3\n",
            "  (0, 70120)\t1\n",
            "  (0, 76512)\t1\n",
            "  (0, 145344)\t1\n",
            "  (0, 104197)\t1\n",
            "  (0, 102334)\t1\n",
            "  (0, 172452)\t1\n",
            "  (0, 142182)\t1\n",
            "  (0, 109510)\t1\n",
            "  (0, 165629)\t1\n",
            "  (0, 16312)\t2\n",
            "  (0, 99259)\t1\n",
            "  (0, 66154)\t1\n",
            "  (0, 8312)\t1\n",
            "  (1, 142351)\t2\n",
            "  (1, 9215)\t1\n",
            "  (1, 99117)\t1\n",
            "  (1, 95844)\t2\n",
            "  (1, 155815)\t1\n",
            "  :\t:\n",
            "  (568452, 76512)\t1\n",
            "  (568452, 188486)\t2\n",
            "  (568452, 64450)\t1\n",
            "  (568452, 104689)\t1\n",
            "  (568452, 177695)\t1\n",
            "  (568452, 16076)\t1\n",
            "  (568452, 122119)\t1\n",
            "  (568452, 159316)\t1\n",
            "  (568452, 25573)\t1\n",
            "  (568452, 139342)\t1\n",
            "  (568452, 200647)\t1\n",
            "  (568452, 104938)\t1\n",
            "  (568452, 188034)\t1\n",
            "  (568452, 52698)\t1\n",
            "  (568452, 152221)\t1\n",
            "  (568452, 79350)\t1\n",
            "  (568453, 142351)\t1\n",
            "  (568453, 194139)\t1\n",
            "  (568453, 156793)\t1\n",
            "  (568453, 147126)\t1\n",
            "  (568453, 1980)\t1\n",
            "  (568453, 177972)\t1\n",
            "  (568453, 29300)\t1\n",
            "  (568453, 196670)\t1\n",
            "  (568453, 74048)\t1\n"
          ]
        }
      ],
      "source": [
        "# Bag-of-Words\n",
        "Cleaned_Text = reviews_df['Cleaned_Text']\n",
        "print(\"Extracting Bag-of-Words features...\")\n",
        "bow_vectorizer = CountVectorizer()\n",
        "bow_features = bow_vectorizer.fit_transform(Cleaned_Text)\n",
        "print(bow_features)"
      ]
    },
    {
      "cell_type": "code",
      "execution_count": null,
      "metadata": {
        "colab": {
          "base_uri": "https://localhost:8080/"
        },
        "id": "7urTB36x57-Y",
        "outputId": "15760d49-ce43-4688-b67b-5ee5eb26c090"
      },
      "outputs": [
        {
          "name": "stdout",
          "output_type": "stream",
          "text": [
            "Bag-of-Words features shape: (568454, 207192)\n"
          ]
        }
      ],
      "source": [
        "print(\"Bag-of-Words features shape:\", bow_features.shape)"
      ]
    },
    {
      "cell_type": "markdown",
      "metadata": {
        "id": "wvzMRkCp7bDA"
      },
      "source": [
        "568454 - Number of documents\n",
        "\n",
        "207192 - Total number of unique words or tokens identified"
      ]
    },
    {
      "cell_type": "markdown",
      "metadata": {},
      "source": [
        "\n",
        "B. TF-IDF (Term Frequency-Inverse Document Frequency)\n",
        "- Technique Overview:\n",
        "    - TF-IDF improves upon BoW by also considering the importance of words. It calculates the frequency of a term in a document while penalizing common words that appear across many documents.\n",
        "    - How??\n",
        "        - Computes term frequency (TF): Frequency of a word in a document.\n",
        "        - Computes inverse document frequency (IDF): Logarithmic measure of how rare a word is across documents.\n",
        "        - Multiplies TF by IDF to get the TF-IDF weight.\n",
        "- Code Flow:\n",
        "    - A TfidfVectorizer is initialized converting text into TF-IDF weighted features.\n",
        "    - fit_transform Fits the vectorizer and transforms the text by computing TF-IDF score for each term in the document.\n",
        "    - Similar to BoW, tfidf_features.shape displays the number of documents and features i.e. Sparse matrix with weights reflecting word importance, indicating the TF-IDF representation.\n",
        "- Why we are using this?\n",
        "    - Better than BoW for capturing the importance of words.\n",
        "    - TF-IDF helps to reduce the weight of common words and highlights more informative words, making it suitable for distinguishing between different classes in text classification."
      ]
    },
    {
      "cell_type": "code",
      "execution_count": null,
      "metadata": {
        "colab": {
          "base_uri": "https://localhost:8080/"
        },
        "id": "IywZOPTp6mny",
        "outputId": "d5806cc6-4cc3-4e4d-db42-301fee89d55a"
      },
      "outputs": [
        {
          "name": "stdout",
          "output_type": "stream",
          "text": [
            "Extracting TF-IDF features...\n",
            "  (0, 20284)\t0.13968668486066238\n",
            "  (0, 160853)\t0.1736908095574905\n",
            "  (0, 197008)\t0.3343004419994575\n",
            "  (0, 26426)\t0.20898398836567464\n",
            "  (0, 52611)\t0.13777663395203454\n",
            "  (0, 68917)\t0.12117817447492941\n",
            "  (0, 142351)\t0.29958962455682103\n",
            "  (0, 70120)\t0.13771921107864885\n",
            "  (0, 76512)\t0.0917312900057533\n",
            "  (0, 145344)\t0.15699192716227356\n",
            "  (0, 104197)\t0.16603862997492222\n",
            "  (0, 102334)\t0.0852114431942932\n",
            "  (0, 172452)\t0.279416382841238\n",
            "  (0, 142182)\t0.2450998710234203\n",
            "  (0, 109510)\t0.1974762680888658\n",
            "  (0, 165629)\t0.1657893466719918\n",
            "  (0, 16312)\t0.2567025878536437\n",
            "  (0, 99259)\t0.3288378373590202\n",
            "  (0, 66154)\t0.2642889470313167\n",
            "  (0, 8312)\t0.36891790168965505\n",
            "  (1, 142351)\t0.15887791553597222\n",
            "  (1, 9215)\t0.14358642226816587\n",
            "  (1, 99117)\t0.219979320689585\n",
            "  (1, 95844)\t0.5520950155084353\n",
            "  (1, 155815)\t0.21851203532617455\n",
            "  :\t:\n",
            "  (568452, 76512)\t0.0969520033251946\n",
            "  (568452, 188486)\t0.309479872538993\n",
            "  (568452, 64450)\t0.15214130373240034\n",
            "  (568452, 104689)\t0.18485644918882208\n",
            "  (568452, 177695)\t0.15270370952611592\n",
            "  (568452, 16076)\t0.1314350900046813\n",
            "  (568452, 122119)\t0.26378983858265104\n",
            "  (568452, 159316)\t0.197769582916543\n",
            "  (568452, 25573)\t0.17715368703189277\n",
            "  (568452, 139342)\t0.2101606428484213\n",
            "  (568452, 200647)\t0.24686262723624905\n",
            "  (568452, 104938)\t0.23322069969401646\n",
            "  (568452, 188034)\t0.24413014130035154\n",
            "  (568452, 52698)\t0.3283117942019509\n",
            "  (568452, 152221)\t0.3748162574934358\n",
            "  (568452, 79350)\t0.41018068798973756\n",
            "  (568453, 142351)\t0.15277951823004587\n",
            "  (568453, 194139)\t0.1916236123423196\n",
            "  (568453, 156793)\t0.3522353313169722\n",
            "  (568453, 147126)\t0.34156634977587413\n",
            "  (568453, 1980)\t0.3860430779973122\n",
            "  (568453, 177972)\t0.4448147875741402\n",
            "  (568453, 29300)\t0.2954729073649947\n",
            "  (568453, 196670)\t0.3597638928304125\n",
            "  (568453, 74048)\t0.3682088526768494\n"
          ]
        }
      ],
      "source": [
        "# TF-IDF\n",
        "print(\"Extracting TF-IDF features...\")\n",
        "tfidf_vectorizer = TfidfVectorizer()\n",
        "tfidf_features = tfidf_vectorizer.fit_transform(Cleaned_Text)\n",
        "print(tfidf_features)"
      ]
    },
    {
      "cell_type": "code",
      "execution_count": null,
      "metadata": {
        "colab": {
          "base_uri": "https://localhost:8080/"
        },
        "id": "_ACzOO5R6piM",
        "outputId": "017c36e8-8e3a-4666-e76e-4b14c4072576"
      },
      "outputs": [
        {
          "name": "stdout",
          "output_type": "stream",
          "text": [
            "TF-IDF features shape: (568454, 207192)\n"
          ]
        }
      ],
      "source": [
        "print(\"TF-IDF features shape:\", tfidf_features.shape)"
      ]
    },
    {
      "cell_type": "markdown",
      "metadata": {},
      "source": [
        "C. Word2Vec\n",
        "- Technique Overview:\n",
        "    - Word2Vec training algorithm learns vectorized representations of words in the manner that the words having more similar meanings used closer vectors.\n",
        "    - It handles the contextual relationships, and semantic meanings making it superior to BoW or TF-IDF methods. That it does with the help of a neural network, which gives out context words (CBOW) or target words (Skip-gram) based on surrounding words.\n",
        "    - Example: Retains semantic interaction of words, that is, it captures semantic equations such as ‘king’ - ‘man’ + ‘woman’ ≈ ‘queen’.\n",
        "- Code Flow:\n",
        "    - The cleaned text is tokenized into lists of words.\n",
        "    - Then Word2Vec model is trained on the tokenized texts, specifying parameters like vector_size (dimension of word vectors), window (context window size), and min_count (minimum frequency).\n",
        "    - Later, compute_average_word2vec() computes the average of the word vectors for each document. If no words are found in the model, it returns a zero vector.\n",
        "    - word2vec_features provides a dense representation of documents based on word semantics.\n",
        "- Why we are using this?\n",
        "    - Word2Vec captures contextual information, making it particularly effective for semantic/syntactic analysis and understanding relationships between words.\n",
        "    - Requires significant computational resources compared to BoW or TF-IDF."
      ]
    },
    {
      "cell_type": "code",
      "execution_count": null,
      "metadata": {
        "colab": {
          "base_uri": "https://localhost:8080/"
        },
        "id": "MGUPAOz04F62",
        "outputId": "c419d29a-2ec7-4d54-86b8-f20c76cfde50"
      },
      "outputs": [
        {
          "name": "stdout",
          "output_type": "stream",
          "text": [
            "Training Word2Vec model...\n",
            "Computing Word2Vec features...\n",
            "Word2Vec features shape: 568454 x 100\n"
          ]
        }
      ],
      "source": [
        "# Word2Vec (using Gensim)\n",
        "print(\"Training Word2Vec model...\")\n",
        "tokenized_texts = [text.split() for text in Cleaned_Text]\n",
        "word2vec_model = Word2Vec(sentences=tokenized_texts, vector_size=100, window=5, min_count=1, workers=4)\n",
        "\n",
        "# Compute average Word2Vec features per text\n",
        "print(\"Computing Word2Vec features...\")\n",
        "def compute_average_word2vec(text, model, vector_size):\n",
        "    words = text.split()\n",
        "    feature_vec = [model.wv[word] for word in words if word in model.wv]\n",
        "    if feature_vec:\n",
        "        return sum(feature_vec) / len(feature_vec)\n",
        "    else:\n",
        "        return [0] * vector_size\n",
        "\n",
        "word2vec_features = [compute_average_word2vec(text, word2vec_model, 100) for text in Cleaned_Text]\n",
        "\n",
        "print(\"Word2Vec features shape:\", len(word2vec_features), \"x\", len(word2vec_features[0]))"
      ]
    },
    {
      "cell_type": "markdown",
      "metadata": {
        "id": "3Oxd8SbqHpe3"
      },
      "source": [
        "568454 - Number of documents\n",
        "\n",
        "100 - This represents the size of the word vector space, also known as the embedding dimension."
      ]
    },
    {
      "cell_type": "markdown",
      "metadata": {
        "id": "mdGD-XvVRAXj"
      },
      "source": [
        "### 2. Model Building"
      ]
    },
    {
      "cell_type": "markdown",
      "metadata": {},
      "source": [
        "Naive Bayes is a fast-paced method for sentiment analysis in customer feedback applications because it is computationally efficient, handles large feature spaces well, and performs surprisingly well with relatively small amounts of training data. Additionally, it is simple to implement and interpret compared to SVM and neural networks."
      ]
    },
    {
      "cell_type": "markdown",
      "metadata": {},
      "source": [
        "A. Naive Bayes with Bag-of-Words\n",
        "- Technique Overview:\n",
        "    - Naive Bayes is a probabilistic classifier based on Bayes' theorem, assuming independence between features. It computes the probability of each class given the feature vector\n",
        "    - Suitable for high-dimensional data like BoW, making it ideal for text classification.\n",
        "- Code Flow:\n",
        "    - The target sentiment labels are extracted.\n",
        "    - Then dataset is split into training and testing sets using an 80-20 split.\n",
        "    - Later, Naive Bayes model is instantiated and trained on the Bag-of-Words features.\n",
        "    - The model is evaluated by predicting on both training and testing sets, calculating accuracy scores.\n",
        "- Our Analysis:\n",
        "    - The classification report provides precision, recall, and F1-score metrics for each class. High accuracy for positive sentiment but struggles with neutral and negative sentiments due to class imbalance."
      ]
    },
    {
      "cell_type": "code",
      "execution_count": null,
      "metadata": {
        "colab": {
          "base_uri": "https://localhost:8080/"
        },
        "id": "k2ILLExoRAXj",
        "outputId": "829acf13-8667-45c0-bd9e-0271a4b2f425"
      },
      "outputs": [
        {
          "name": "stdout",
          "output_type": "stream",
          "text": [
            "Training Naive Bayes model...\n",
            "Evaluating the model...\n",
            "Training Accuracy: 89.47 %\n",
            "Testing Accuracy: 88.23 %\n",
            "Classification Report on Testing Data:\n",
            "               precision    recall  f1-score   support\n",
            "\n",
            "    negative       0.52      0.47      0.50     11922\n",
            "     neutral       0.44      0.04      0.07      2410\n",
            "    positive       0.92      0.95      0.94     99359\n",
            "\n",
            "    accuracy                           0.88    113691\n",
            "   macro avg       0.63      0.49      0.50    113691\n",
            "weighted avg       0.87      0.88      0.87    113691\n",
            "\n"
          ]
        }
      ],
      "source": [
        "# Split the dataset into training and testing sets\n",
        "Sentiment = reviews_df['Predicted_Sentiment']\n",
        "X_train, X_test, y_train, y_test = train_test_split(bow_features, Sentiment, test_size=0.2, random_state=42)\n",
        "\n",
        "# Model Building using Naive Bayes\n",
        "print(\"Training Naive Bayes model...\")\n",
        "model = MultinomialNB()\n",
        "model.fit(X_train, y_train)\n",
        "\n",
        "# Evaluate the model\n",
        "print(\"Evaluating the model...\")\n",
        "train_predictions = model.predict(X_train)\n",
        "test_predictions = model.predict(X_test)\n",
        "\n",
        "train_accuracy = accuracy_score(y_train, train_predictions)\n",
        "test_accuracy = accuracy_score(y_test, test_predictions)\n",
        "\n",
        "print(\"Training Accuracy: {:.2f} %\".format(train_accuracy * 100))\n",
        "print(\"Testing Accuracy: {:.2f} %\".format(test_accuracy * 100))\n",
        "print(\"Classification Report on Testing Data:\\n\", classification_report(y_test, test_predictions))\n"
      ]
    },
    {
      "cell_type": "markdown",
      "metadata": {
        "id": "xyZILY4TRAXj"
      },
      "source": [
        "B. Naive Bayes with TF-IDF\n",
        "- Technique Overview:\n",
        "    - Using TF-IDF improves classification by reducing the influence of common words.\n",
        "- Code Flow:\n",
        "    - Similar to the BoW method, but using tfidf_features instead of bow_features.\n",
        "- Our Analysis:\n",
        "    - Slightly lower accuracy compared to BoW due to the weighting mechanism reducing the impact of frequent words.\n",
        "    - Better performance in handling negative reviews compared to BoW, but still poor with neutral reviews."
      ]
    },
    {
      "cell_type": "markdown",
      "metadata": {
        "id": "RFOhkEbHRAXk"
      },
      "source": [
        "With TF-IDF"
      ]
    },
    {
      "cell_type": "code",
      "execution_count": null,
      "metadata": {
        "colab": {
          "base_uri": "https://localhost:8080/"
        },
        "id": "SxZ4WW2CRAXk",
        "outputId": "2b5e3107-ca1e-419e-bce9-f97caf1296f6"
      },
      "outputs": [
        {
          "name": "stdout",
          "output_type": "stream",
          "text": [
            "Training Naive Bayes model with TF-IDF...\n",
            "Evaluating the model with TF-IDF...\n",
            "TF-IDF Training Accuracy: 87.59 %\n",
            "TF-IDF Testing Accuracy: 87.50 %\n",
            "TF-IDF Classification Report:\n",
            "               precision    recall  f1-score   support\n",
            "\n",
            "    negative       0.72      0.01      0.03     11922\n",
            "     neutral       0.60      0.01      0.01      2410\n",
            "    positive       0.88      1.00      0.93     99359\n",
            "\n",
            "    accuracy                           0.87    113691\n",
            "   macro avg       0.73      0.34      0.32    113691\n",
            "weighted avg       0.85      0.87      0.82    113691\n",
            "\n"
          ]
        }
      ],
      "source": [
        "X_train_tfidf, X_test_tfidf, _, _ = train_test_split(tfidf_features, Sentiment, test_size=0.2, random_state=42)\n",
        "\n",
        "print(\"Training Naive Bayes model with TF-IDF...\")\n",
        "model_tfidf = MultinomialNB()\n",
        "model_tfidf.fit(X_train_tfidf, y_train)\n",
        "\n",
        "# Evaluate the model with TF-IDF\n",
        "print(\"Evaluating the model with TF-IDF...\")\n",
        "train_predictions_tfidf = model_tfidf.predict(X_train_tfidf)\n",
        "test_predictions_tfidf = model_tfidf.predict(X_test_tfidf)\n",
        "\n",
        "train_accuracy_tfidf = accuracy_score(y_train, train_predictions_tfidf)\n",
        "test_accuracy_tfidf = accuracy_score(y_test, test_predictions_tfidf)\n",
        "\n",
        "print(\"TF-IDF Training Accuracy: {:.2f} %\".format(train_accuracy_tfidf  * 100))\n",
        "print(\"TF-IDF Testing Accuracy: {:.2f} %\".format(test_accuracy_tfidf * 100))\n",
        "print(\"TF-IDF Classification Report:\\n\", classification_report(y_test, test_predictions_tfidf))\n"
      ]
    },
    {
      "cell_type": "markdown",
      "metadata": {},
      "source": [
        "C. Naive Bayes with Word2Vec\n",
        "- Technique Overview:\n",
        "    - . Naive Bayes is suitable for dense feature representations like Word2Vec embeddings.\n",
        "- Code Flow:\n",
        "    - Fits a Naive Bayes model to the data.\n",
        "- Our Analysis:\n",
        "    - Similar accuracy to BoW and TF-IDF, but better captures semantic relationships.\n",
        "    - Similar challenges with the neutral class, indicating that the model may not effectively capture nuances in neutral sentiment."
      ]
    },
    {
      "cell_type": "markdown",
      "metadata": {
        "id": "YXzENzyORAXk"
      },
      "source": [
        "With Word2Ve"
      ]
    },
    {
      "cell_type": "code",
      "execution_count": null,
      "metadata": {
        "colab": {
          "base_uri": "https://localhost:8080/"
        },
        "id": "ZdfByyvtRAXk",
        "outputId": "c08c7b2c-b488-4b5d-bded-6de496334a3b"
      },
      "outputs": [
        {
          "name": "stdout",
          "output_type": "stream",
          "text": [
            "Training Naive Bayes model with Word2Vec features...\n",
            "Evaluating the model with Word2Vec features...\n",
            "Word2Vec Training Accuracy: 87.44 %\n",
            "Word2Vec Testing Accuracy: 87.39 %\n",
            "Word2Vec Classification Report:\n",
            "               precision    recall  f1-score   support\n",
            "\n",
            "    negative       1.00      0.00      0.00     11922\n",
            "     neutral       0.00      0.00      0.00      2410\n",
            "    positive       0.87      1.00      0.93     99359\n",
            "\n",
            "    accuracy                           0.87    113691\n",
            "   macro avg       0.62      0.33      0.31    113691\n",
            "weighted avg       0.87      0.87      0.82    113691\n",
            "\n"
          ]
        }
      ],
      "source": [
        "# Convert Word2Vec features to DataFrame for compatibility\n",
        "import numpy as np\n",
        "word2vec_features = np.array(word2vec_features)\n",
        "X_train_w2v, X_test_w2v, _, _ = train_test_split(word2vec_features, Sentiment, test_size=0.2, random_state=42)\n",
        "\n",
        "# TO handle negative values in the data set\n",
        "X_train_w2v = np.abs(X_train_w2v)\n",
        "X_test_w2v = np.abs(X_test_w2v)\n",
        "\n",
        "\n",
        "print(\"Training Naive Bayes model with Word2Vec features...\")\n",
        "model_w2v = MultinomialNB()\n",
        "model_w2v.fit(X_train_w2v, y_train)\n",
        "\n",
        "# Evaluate the model with Word2Vec features\n",
        "print(\"Evaluating the model with Word2Vec features...\")\n",
        "train_predictions_w2v = model_w2v.predict(X_train_w2v)\n",
        "test_predictions_w2v = model_w2v.predict(X_test_w2v)\n",
        "\n",
        "train_accuracy_w2v = accuracy_score(y_train, train_predictions_w2v)\n",
        "test_accuracy_w2v = accuracy_score(y_test, test_predictions_w2v)\n",
        "\n",
        "print(\"Word2Vec Training Accuracy: {:.2f} %\".format(train_accuracy_w2v * 100))\n",
        "print(\"Word2Vec Testing Accuracy: {:.2f} %\".format(test_accuracy_w2v * 100))\n",
        "print(\"Word2Vec Classification Report:\\n\", classification_report(y_test, test_predictions_w2v))\n"
      ]
    },
    {
      "cell_type": "markdown",
      "metadata": {
        "id": "OzTyr2GbRAXl"
      },
      "source": [
        "### Visualisation"
      ]
    },
    {
      "cell_type": "code",
      "execution_count": null,
      "metadata": {
        "id": "NDRD5T5uRAXl",
        "outputId": "c8b520f7-ae5b-4e4d-8cf3-80c75213c983"
      },
      "outputs": [
        {
          "data": {
            "image/png": "[encoded data removed]",
            "text/plain": [
              "<Figure size 640x480 with 1 Axes>"
            ]
          },
          "metadata": {},
          "output_type": "display_data"
        },
        {
          "data": {
            "image/png": "[encoded data removed]",
            "text/plain": [
              "<Figure size 640x480 with 1 Axes>"
            ]
          },
          "metadata": {},
          "output_type": "display_data"
        }
      ],
      "source": [
        "import seaborn as sns\n",
        "import matplotlib.pyplot as plt\n",
        "# Visualization\n",
        "results = {\n",
        "    \"Feature Representation\": [\"Bag-of-Words\", \"TF-IDF\", \"Word2Vec\"],\n",
        "    \"Training Accuracy\": [train_accuracy, train_accuracy_tfidf, train_accuracy_w2v],\n",
        "    \"Testing Accuracy\": [test_accuracy, test_accuracy_tfidf, test_accuracy_w2v]\n",
        "}\n",
        "\n",
        "results_df = pd.DataFrame(results)\n",
        "\n",
        "# Plot the results\n",
        "sns.barplot(x=\"Feature Representation\", y=\"Testing Accuracy\", data=results_df)\n",
        "plt.title(\"Testing Accuracy Comparison\")\n",
        "plt.ylabel(\"Accuracy\")\n",
        "plt.xlabel(\"Feature Representation\")\n",
        "plt.show()\n",
        "\n",
        "sns.barplot(x=\"Feature Representation\", y=\"Training Accuracy\", data=results_df)\n",
        "plt.title(\"Training Accuracy Comparison\")\n",
        "plt.ylabel(\"Accuracy\")\n",
        "plt.xlabel(\"Feature Representation\")\n",
        "plt.show()\n"
      ]
    },
    {
      "cell_type": "markdown",
      "metadata": {},
      "source": [
        "The results are compiled into a DataFrame for easy visualization:\n",
        "\n",
        "Bar plots are generated to compare testing and training accuracies across different feature representations.\n",
        "\n",
        "- **Testing Accuracy Comparison:**\n",
        "    - Bar plots show similar testing accuracy across all feature representations.\n",
        "    - BoW slightly outperforms TF-IDF and Word2Vec for this dataset and model.\n",
        "- **Training Accuracy Comparison:**\n",
        "    - High training accuracy for all methods, indicating good model performance on training data."
      ]
    },
    {
      "cell_type": "markdown",
      "metadata": {},
      "source": [
        "### Conclusion\n",
        "\n",
        "- Analysis of Results:\n",
        "    - Feature representation impacts model performance significantly. Hence, the choice of embedding technique should align with the dataset characteristics and task requirements.\n",
        "    - Bag-of-Words performed slightly better in this setup due to the simplicity of the dataset and class imbalance.\n",
        "    - Word2Vec could excel with more balanced data and advanced models.\n",
        "    - TF-IDF is a good compromise, reducing the impact of frequent words while retaining meaningful features.\n",
        "    - The choice of embedding technique should depend on the specific text classification task.\n",
        "\n",
        "- Best Embedding Technique: Bag-of-Words (BoW): \n",
        "    - While all three techniques yielded comparable overall accuracy, BoW emerges as the best feature representation technique for this particular sentiment analysis task:\n",
        "    - Simplicity and Efficiency:\n",
        "        - BoW is straightforward to implement and computationally efficient, making it suitable for high-dimensional datasets.\n",
        "    - Compatibility with Naive Bayes:\n",
        "        - BoW aligns well with Naive Bayes' assumptions, leading to optimal performance for text classification tasks.\n",
        "    - Dataset Characteristics:\n",
        "        - The dataset's class imbalance and high proportion of positive sentiment data favored the straightforward frequency-based approach of BoW."
      ]
    }
  ],
  "metadata": {
    "colab": {
      "provenance": []
    },
    "kernelspec": {
      "display_name": "Python 3",
      "name": "python3"
    },
    "language_info": {
      "codemirror_mode": {
        "name": "ipython",
        "version": 3
      },
      "file_extension": ".py",
      "mimetype": "text/x-python",
      "name": "python",
      "nbconvert_exporter": "python",
      "pygments_lexer": "ipython3",
      "version": "3.11.0"
    }
  },
  "nbformat": 4,
  "nbformat_minor": 0
}
